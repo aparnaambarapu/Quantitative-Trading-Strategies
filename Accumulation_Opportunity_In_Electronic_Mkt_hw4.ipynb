{
 "cells": [
  {
   "cell_type": "markdown",
   "id": "17610b3fc5ce8cc5",
   "metadata": {},
   "source": [
    "# Aparna Ambarapu"
   ]
  },
  {
   "cell_type": "code",
   "execution_count": 1,
   "id": "15bd61fdc2849ad1",
   "metadata": {
    "ExecuteTime": {
     "end_time": "2025-02-08T23:17:33.481647Z",
     "start_time": "2025-02-08T23:17:33.314518Z"
    }
   },
   "outputs": [],
   "source": [
    "import os\n",
    "import datetime\n",
    "import matplotlib.pyplot as plt\n",
    "import pandas as pd\n",
    "import numpy as np\n",
    "import scipy as sp\n",
    "import plotnine as p9\n",
    "import quandl\n",
    "import seaborn as sns\n",
    "import warnings\n",
    "warnings.filterwarnings(\"ignore\")"
   ]
  },
  {
   "cell_type": "markdown",
   "id": "94c6a5999e486597",
   "metadata": {},
   "source": [
    "# Load 2022, 2023 BTC-USD, ETH-BTC, ETH-USD datasets"
   ]
  },
  {
   "cell_type": "code",
   "execution_count": 2,
   "id": "f4256ab5ae374cfc",
   "metadata": {
    "ExecuteTime": {
     "end_time": "2025-02-08T23:17:37.311168Z",
     "start_time": "2025-02-08T23:17:37.305546Z"
    }
   },
   "outputs": [],
   "source": [
    "def read_dataset(year, pair1, pair2):\n",
    "    path = './data/'+str(year)+'/trades_narrow_'+pair1+'-'+pair2+'_'+str(year)+'.delim.gz'\n",
    "    df = pd.read_csv(path, sep='\\t', compression='gzip', engine='python')\n",
    "    df['Price'] = df['PriceMillionths']/1e6\n",
    "    df['Size'] = df['SizeBillionths']/1e9\n",
    "    df['timestamp_utc'] = pd.to_datetime(df['timestamp_utc_nanoseconds'])\n",
    "    # df['received_utc_nanoseconds'] = pd.to_datetime(df['received_utc_nanoseconds'])\n",
    "    df['Side'] = np.sign(df['Side'])\n",
    "    df.index.name = pair1+'-'+pair2\n",
    "    return df.drop(columns=['timestamp_utc_nanoseconds','received_utc_nanoseconds', 'PriceMillionths', 'SizeBillionths'])\n"
   ]
  },
  {
   "cell_type": "code",
   "execution_count": 3,
   "id": "9dbdbf14a43a9803",
   "metadata": {
    "ExecuteTime": {
     "end_time": "2025-02-08T23:18:05.772200Z",
     "start_time": "2025-02-08T23:17:37.848357Z"
    }
   },
   "outputs": [],
   "source": [
    "btc_usd_2022_df = read_dataset(2022, 'BTC', 'USD')\n",
    "eth_btc_2022_df = read_dataset(2022, 'ETH', 'BTC')\n",
    "eth_usd_2022_df = read_dataset(2022, 'ETH', 'USD')\n",
    "\n",
    "btc_usd_2023_df = read_dataset(2023, 'BTC', 'USD')\n",
    "eth_btc_2023_df = read_dataset(2023, 'ETH', 'BTC')\n",
    "eth_usd_2023_df = read_dataset(2023, 'ETH', 'USD')"
   ]
  },
  {
   "cell_type": "code",
   "execution_count": 4,
   "id": "797c1fc95719f889",
   "metadata": {
    "ExecuteTime": {
     "end_time": "2025-02-08T23:18:05.784537Z",
     "start_time": "2025-02-08T23:18:05.782113Z"
    }
   },
   "outputs": [
    {
     "name": "stdout",
     "output_type": "stream",
     "text": [
      "(2907376, 4)\n",
      "(116525, 4)\n",
      "(2711795, 4)\n",
      "(560107, 4)\n",
      "(1958, 4)\n",
      "(377185, 4)\n"
     ]
    }
   ],
   "source": [
    "print(btc_usd_2022_df.shape)\n",
    "print(eth_btc_2022_df.shape)\n",
    "print(eth_usd_2022_df.shape)\n",
    "print(btc_usd_2023_df.shape)\n",
    "print(eth_btc_2023_df.shape)\n",
    "print(eth_usd_2023_df.shape)"
   ]
  },
  {
   "cell_type": "code",
   "execution_count": 5,
   "id": "5e1ca9e18d7ba191",
   "metadata": {
    "ExecuteTime": {
     "end_time": "2025-02-08T23:19:29.501703Z",
     "start_time": "2025-02-08T23:19:29.489893Z"
    }
   },
   "outputs": [
    {
     "data": {
      "text/html": [
       "<div>\n",
       "<style scoped>\n",
       "    .dataframe tbody tr th:only-of-type {\n",
       "        vertical-align: middle;\n",
       "    }\n",
       "\n",
       "    .dataframe tbody tr th {\n",
       "        vertical-align: top;\n",
       "    }\n",
       "\n",
       "    .dataframe thead th {\n",
       "        text-align: right;\n",
       "    }\n",
       "</style>\n",
       "<table border=\"1\" class=\"dataframe\">\n",
       "  <thead>\n",
       "    <tr style=\"text-align: right;\">\n",
       "      <th></th>\n",
       "      <th>Side</th>\n",
       "      <th>Price</th>\n",
       "      <th>Size</th>\n",
       "      <th>timestamp_utc</th>\n",
       "    </tr>\n",
       "    <tr>\n",
       "      <th>ETH-BTC</th>\n",
       "      <th></th>\n",
       "      <th></th>\n",
       "      <th></th>\n",
       "      <th></th>\n",
       "    </tr>\n",
       "  </thead>\n",
       "  <tbody>\n",
       "    <tr>\n",
       "      <th>0</th>\n",
       "      <td>1</td>\n",
       "      <td>0.07095</td>\n",
       "      <td>0.259657</td>\n",
       "      <td>2023-01-24 00:49:06.020758</td>\n",
       "    </tr>\n",
       "    <tr>\n",
       "      <th>1</th>\n",
       "      <td>1</td>\n",
       "      <td>0.07095</td>\n",
       "      <td>0.000141</td>\n",
       "      <td>2023-01-24 00:49:06.050573</td>\n",
       "    </tr>\n",
       "    <tr>\n",
       "      <th>2</th>\n",
       "      <td>-1</td>\n",
       "      <td>0.07095</td>\n",
       "      <td>0.053583</td>\n",
       "      <td>2023-01-24 00:49:08.159815</td>\n",
       "    </tr>\n",
       "    <tr>\n",
       "      <th>3</th>\n",
       "      <td>-1</td>\n",
       "      <td>0.07094</td>\n",
       "      <td>0.000207</td>\n",
       "      <td>2023-01-24 00:49:12.601911</td>\n",
       "    </tr>\n",
       "    <tr>\n",
       "      <th>4</th>\n",
       "      <td>1</td>\n",
       "      <td>0.07095</td>\n",
       "      <td>0.000991</td>\n",
       "      <td>2023-01-24 00:52:26.201920</td>\n",
       "    </tr>\n",
       "  </tbody>\n",
       "</table>\n",
       "</div>"
      ],
      "text/plain": [
       "         Side    Price      Size              timestamp_utc\n",
       "ETH-BTC                                                    \n",
       "0           1  0.07095  0.259657 2023-01-24 00:49:06.020758\n",
       "1           1  0.07095  0.000141 2023-01-24 00:49:06.050573\n",
       "2          -1  0.07095  0.053583 2023-01-24 00:49:08.159815\n",
       "3          -1  0.07094  0.000207 2023-01-24 00:49:12.601911\n",
       "4           1  0.07095  0.000991 2023-01-24 00:52:26.201920"
      ]
     },
     "execution_count": 5,
     "metadata": {},
     "output_type": "execute_result"
    }
   ],
   "source": [
    "eth_btc_2023_df.head()"
   ]
  },
  {
   "cell_type": "markdown",
   "id": "b00ad1c570ef1031",
   "metadata": {},
   "source": [
    "Here we going to assess the feasibility of accumulating large positions while attempting to maintain low trading costs in an electronic market. Before that we will take a look at the datasets.\n",
    "\n",
    "# Exploratory data analysis"
   ]
  },
  {
   "cell_type": "code",
   "execution_count": 6,
   "id": "625d0c9a468c64c4",
   "metadata": {
    "ExecuteTime": {
     "end_time": "2025-02-08T23:20:00.279576Z",
     "start_time": "2025-02-08T23:20:00.271905Z"
    }
   },
   "outputs": [],
   "source": [
    "def find_time_gaps(df):\n",
    "    df = df.set_index('timestamp_utc').copy()\n",
    "    resampled = df.resample('1T')['Price'].count()\n",
    "    return resampled[resampled == 0].index.tolist()\n",
    "\n",
    "def metrics_df(df, pair, year):\n",
    "    df = df.sort_values('timestamp_utc').copy()\n",
    "    lst = find_time_gaps(df)\n",
    "\n",
    "    start = df['timestamp_utc'].min()\n",
    "    end = df['timestamp_utc'].max()\n",
    "    start_floor = start.floor('1T')\n",
    "    end_ceil = end.ceil('1T')\n",
    "    total_intervals = len(pd.date_range(start_floor, end_ceil, freq='1T'))\n",
    "    gap_pct = (len(lst) / total_intervals * 100) if total_intervals > 0 else 0.0\n",
    "\n",
    "    return {\n",
    "        'pair': pair,\n",
    "        'year': year,\n",
    "        'start': start,\n",
    "        'end': end,\n",
    "        'num_days': (end - start).days + 1,\n",
    "        'total_records': len(df),\n",
    "        'time_gaps': lst,\n",
    "        'number_time_gaps': len(lst),\n",
    "        'percentage_gaps': round(gap_pct, 2)\n",
    "    }"
   ]
  },
  {
   "cell_type": "code",
   "execution_count": 7,
   "id": "3e87ada43c32e61b",
   "metadata": {
    "ExecuteTime": {
     "end_time": "2025-02-08T23:20:01.008929Z",
     "start_time": "2025-02-08T23:20:01.004955Z"
    }
   },
   "outputs": [],
   "source": [
    "PAIRS = ['BTC-USD', 'ETH-USD', 'ETH-BTC']\n",
    "YEARS = [2022, 2023]\n",
    "\n",
    "pair_year_dfs = {\n",
    "    'BTC-USD': {\n",
    "        2022: btc_usd_2022_df,\n",
    "        2023: btc_usd_2023_df\n",
    "    },\n",
    "    'ETH-USD': {\n",
    "        2022: eth_usd_2022_df,\n",
    "        2023: eth_usd_2023_df\n",
    "    },\n",
    "    'ETH-BTC': {\n",
    "        2022: eth_btc_2022_df,\n",
    "        2023: eth_btc_2023_df\n",
    "    }\n",
    "}"
   ]
  },
  {
   "cell_type": "code",
   "execution_count": 8,
   "id": "e8c4e4cfa7d2c59e",
   "metadata": {
    "ExecuteTime": {
     "end_time": "2025-02-08T23:20:02.878104Z",
     "start_time": "2025-02-08T23:20:02.222816Z"
    }
   },
   "outputs": [
    {
     "name": "stdout",
     "output_type": "stream",
     "text": [
      "Dataset Summary:\n"
     ]
    },
    {
     "data": {
      "text/html": [
       "<div>\n",
       "<style scoped>\n",
       "    .dataframe tbody tr th:only-of-type {\n",
       "        vertical-align: middle;\n",
       "    }\n",
       "\n",
       "    .dataframe tbody tr th {\n",
       "        vertical-align: top;\n",
       "    }\n",
       "\n",
       "    .dataframe thead th {\n",
       "        text-align: right;\n",
       "    }\n",
       "</style>\n",
       "<table border=\"1\" class=\"dataframe\">\n",
       "  <thead>\n",
       "    <tr style=\"text-align: right;\">\n",
       "      <th></th>\n",
       "      <th>pair</th>\n",
       "      <th>year</th>\n",
       "      <th>start</th>\n",
       "      <th>end</th>\n",
       "      <th>num_days</th>\n",
       "      <th>total_records</th>\n",
       "      <th>time_gaps</th>\n",
       "      <th>number_time_gaps</th>\n",
       "      <th>percentage_gaps</th>\n",
       "    </tr>\n",
       "  </thead>\n",
       "  <tbody>\n",
       "    <tr>\n",
       "      <th>0</th>\n",
       "      <td>BTC-USD</td>\n",
       "      <td>2022</td>\n",
       "      <td>2022-01-29 21:02:49.574850</td>\n",
       "      <td>2022-02-05 01:29:55.223562</td>\n",
       "      <td>7</td>\n",
       "      <td>2907376</td>\n",
       "      <td>[]</td>\n",
       "      <td>0</td>\n",
       "      <td>0.00</td>\n",
       "    </tr>\n",
       "    <tr>\n",
       "      <th>1</th>\n",
       "      <td>BTC-USD</td>\n",
       "      <td>2023</td>\n",
       "      <td>2023-01-24 00:47:47.874527</td>\n",
       "      <td>2023-01-25 15:50:01.601767</td>\n",
       "      <td>2</td>\n",
       "      <td>560107</td>\n",
       "      <td>[2023-01-24 03:00:00, 2023-01-24 03:01:00, 202...</td>\n",
       "      <td>694</td>\n",
       "      <td>29.59</td>\n",
       "    </tr>\n",
       "    <tr>\n",
       "      <th>2</th>\n",
       "      <td>ETH-USD</td>\n",
       "      <td>2022</td>\n",
       "      <td>2022-01-29 21:02:52.762420</td>\n",
       "      <td>2022-02-05 01:29:55.456813</td>\n",
       "      <td>7</td>\n",
       "      <td>2711795</td>\n",
       "      <td>[]</td>\n",
       "      <td>0</td>\n",
       "      <td>0.00</td>\n",
       "    </tr>\n",
       "    <tr>\n",
       "      <th>3</th>\n",
       "      <td>ETH-USD</td>\n",
       "      <td>2023</td>\n",
       "      <td>2023-01-24 00:47:51.071902</td>\n",
       "      <td>2023-01-25 15:00:30.376266</td>\n",
       "      <td>2</td>\n",
       "      <td>377185</td>\n",
       "      <td>[2023-01-24 01:01:00, 2023-01-24 01:02:00, 202...</td>\n",
       "      <td>1076</td>\n",
       "      <td>46.88</td>\n",
       "    </tr>\n",
       "    <tr>\n",
       "      <th>4</th>\n",
       "      <td>ETH-BTC</td>\n",
       "      <td>2022</td>\n",
       "      <td>2022-01-29 21:02:56.287757</td>\n",
       "      <td>2022-02-05 01:29:47.860828</td>\n",
       "      <td>7</td>\n",
       "      <td>116525</td>\n",
       "      <td>[2022-01-30 07:50:00, 2022-01-30 08:16:00, 202...</td>\n",
       "      <td>26</td>\n",
       "      <td>0.29</td>\n",
       "    </tr>\n",
       "    <tr>\n",
       "      <th>5</th>\n",
       "      <td>ETH-BTC</td>\n",
       "      <td>2023</td>\n",
       "      <td>2023-01-24 00:49:06.020758</td>\n",
       "      <td>2023-01-25 15:08:05.145749</td>\n",
       "      <td>2</td>\n",
       "      <td>1958</td>\n",
       "      <td>[2023-01-24 00:50:00, 2023-01-24 00:51:00, 202...</td>\n",
       "      <td>1774</td>\n",
       "      <td>77.10</td>\n",
       "    </tr>\n",
       "  </tbody>\n",
       "</table>\n",
       "</div>"
      ],
      "text/plain": [
       "      pair  year                      start                        end  \\\n",
       "0  BTC-USD  2022 2022-01-29 21:02:49.574850 2022-02-05 01:29:55.223562   \n",
       "1  BTC-USD  2023 2023-01-24 00:47:47.874527 2023-01-25 15:50:01.601767   \n",
       "2  ETH-USD  2022 2022-01-29 21:02:52.762420 2022-02-05 01:29:55.456813   \n",
       "3  ETH-USD  2023 2023-01-24 00:47:51.071902 2023-01-25 15:00:30.376266   \n",
       "4  ETH-BTC  2022 2022-01-29 21:02:56.287757 2022-02-05 01:29:47.860828   \n",
       "5  ETH-BTC  2023 2023-01-24 00:49:06.020758 2023-01-25 15:08:05.145749   \n",
       "\n",
       "   num_days  total_records                                          time_gaps  \\\n",
       "0         7        2907376                                                 []   \n",
       "1         2         560107  [2023-01-24 03:00:00, 2023-01-24 03:01:00, 202...   \n",
       "2         7        2711795                                                 []   \n",
       "3         2         377185  [2023-01-24 01:01:00, 2023-01-24 01:02:00, 202...   \n",
       "4         7         116525  [2022-01-30 07:50:00, 2022-01-30 08:16:00, 202...   \n",
       "5         2           1958  [2023-01-24 00:50:00, 2023-01-24 00:51:00, 202...   \n",
       "\n",
       "   number_time_gaps  percentage_gaps  \n",
       "0                 0             0.00  \n",
       "1               694            29.59  \n",
       "2                 0             0.00  \n",
       "3              1076            46.88  \n",
       "4                26             0.29  \n",
       "5              1774            77.10  "
      ]
     },
     "metadata": {},
     "output_type": "display_data"
    }
   ],
   "source": [
    "results = []\n",
    "for pair in PAIRS:\n",
    "    for year in YEARS:\n",
    "        df = pair_year_dfs[pair][year]\n",
    "        metrics = metrics_df(df, pair, year)\n",
    "        results.append(metrics)\n",
    "\n",
    "summary_df = pd.DataFrame(results)\n",
    "print(\"Dataset Summary:\")\n",
    "display(summary_df)"
   ]
  },
  {
   "cell_type": "markdown",
   "id": "a8a9817fac8eac4e",
   "metadata": {},
   "source": [
    "We see that for all pairs, data in 2022 is available for 7 days and 2 days in 2023. High #trades happen for BTC-USD vs other pairs which is to be expected as Bitcoin is  There are significant timegaps in 2023, especially for ETH-BTC (~77%), while this percentage was calculated as len(1-minute gaps)/total 1-minute interval between start and end date, this gives us an idea of how good the data is. As suggested by Prof:\n",
    "- Another reasonable thing to do would be to work with the data as-is, accepting the extreme tails in behavior as symptomatic of an actual (rather than idealized) system being the subject of analysis. So, We are going to ignore gaps for now."
   ]
  },
  {
   "cell_type": "code",
   "execution_count": 9,
   "id": "f08cdb2e6b102c8d",
   "metadata": {
    "ExecuteTime": {
     "end_time": "2025-02-08T23:21:06.303503Z",
     "start_time": "2025-02-08T23:21:06.290525Z"
    }
   },
   "outputs": [],
   "source": [
    "def analyze_trade_volumes_all_pairs(pair_year_dfs, pairs, years, resample_interval='5T'):\n",
    "    def resample_data(df):\n",
    "        return df.set_index('timestamp_utc').resample(resample_interval).agg({\n",
    "            'Size': 'sum',         # Total volume\n",
    "            'Price': 'mean',       # Average price\n",
    "            'Side': 'count'        # Number of trades\n",
    "        }).rename(columns={'Size': 'volume', 'Price': 'avg_price', 'Side': 'trade_count'})\n",
    "\n",
    "    # Resample all datasets\n",
    "    volume_data_dict = {\n",
    "        pair: {year: resample_data(pair_year_dfs[pair][year]) for year in years}\n",
    "        for pair in pairs\n",
    "    }\n",
    "\n",
    "    # Plotting\n",
    "    num_pairs = len(pairs)\n",
    "    fig, axes = plt.subplots(num_pairs, len(years), figsize=(6 * len(years), 4 * num_pairs), sharey='row')\n",
    "\n",
    "    if num_pairs == 1:\n",
    "        axes = [axes]\n",
    "\n",
    "    for i, pair in enumerate(pairs):\n",
    "        for j, year in enumerate(years):\n",
    "            ax = axes[i][j] if num_pairs > 1 else axes[j]\n",
    "            volume_data = volume_data_dict[pair][year]\n",
    "            ax.plot(volume_data.index, volume_data['volume'], label=f'{pair} Volume ({year})')\n",
    "            ax.set_title(f'{resample_interval} Volume - {pair} ({year})')\n",
    "            ax.set_xlabel('Timestamp')\n",
    "            if j == 0:\n",
    "                ax.set_ylabel('Volume')\n",
    "            ax.legend()\n",
    "\n",
    "    plt.tight_layout()\n",
    "    plt.show()\n",
    "\n",
    "    return volume_data_dict\n"
   ]
  },
  {
   "cell_type": "code",
   "execution_count": 10,
   "id": "3e4c5c596abe0d98",
   "metadata": {
    "ExecuteTime": {
     "end_time": "2025-02-08T23:21:08.220748Z",
     "start_time": "2025-02-08T23:21:06.706457Z"
    }
   },
   "outputs": [
    {
     "data": {
      "image/png": "[encoded data removed]",
      "text/plain": [
       "<Figure size 1200x1200 with 6 Axes>"
      ]
     },
     "metadata": {},
     "output_type": "display_data"
    }
   ],
   "source": [
    "volume_data_dict = analyze_trade_volumes_all_pairs(pair_year_dfs, PAIRS, YEARS)"
   ]
  },
  {
   "cell_type": "markdown",
   "id": "b93b8c3f14b60f2c",
   "metadata": {},
   "source": [
    "Re-iterating what we saw in summary table before, the data in 2023 has a lot of gaps (can be seen from the flat lines in the plot), and ETH-BTC has lot less trading activity compared to BTC-USD and ETH-USD."
   ]
  },
  {
   "cell_type": "markdown",
   "id": "19c396a06b5a5ed2",
   "metadata": {},
   "source": [
    "### Key Insights from the Plots\n",
    "\n",
    "BTC-USD\n",
    "- 2022: Frequent volume spikes indicate active trading, with notable peaks suggesting market events or volatility.\n",
    "- 2023: Spikes are more concentrated, possibly tied to specific market events like Bitcoin's price rally in January 2023.\n",
    "\n",
    "ETH-USD\n",
    "- 2022: Higher overall volumes compared to BTC-USD, with sharp spikes reflecting significant trading activity.\n",
    "- 2023: Similar patterns but with fewer spikes due to shorter data coverage.\n",
    "\n",
    "ETH-BTC\n",
    "- 2022: A single large spike dominates, likely a result of a major trade or liquidity event. The rest of the period shows low, sporadic activity.\n",
    "- 2023: Minimal trading volumes, indicating reduced interest or liquidity for token-to-token trades.\n",
    "\n",
    "Real-World Context\n",
    "1. BTC Rally (Jan 2023): Bitcoin's price surged by ~40% in January 2023, driving higher trading volumes.\n",
    "2. ETH Activity: Ethereum's transition to proof-of-stake (The Merge) in late 2022 may have influenced ETH-related trading patterns in early 2023.\n",
    "3. ETH-BTC Decline: Reduced interest in ETH-BTC pair trading could reflect a shift toward fiat-paired trades or declining arbitrage opportunities."
   ]
  },
  {
   "cell_type": "markdown",
   "id": "4d50b2088a5b052a",
   "metadata": {},
   "source": [
    "### Implications for Accumulation Strategies\n",
    "High Volume Periods:\n",
    "- BTC-USD and ETH-USD provide better opportunities for accumulation during volume spikes due to higher liquidity.\n",
    "- ETH-BTC requires smaller target quantities and conservative participation rates to avoid market impact.\n",
    "\n",
    "Data Coverage:\n",
    "- Limited data for 2023 (2 days) may not fully capture yearly trends, requiring caution in drawing conclusions."
   ]
  },
  {
   "cell_type": "code",
   "execution_count": 45,
   "id": "eba45c1028e581e6",
   "metadata": {
    "ExecuteTime": {
     "end_time": "2025-02-09T00:02:01.721222Z",
     "start_time": "2025-02-09T00:02:01.703759Z"
    }
   },
   "outputs": [],
   "source": [
    "def calculate_vwap(df):\n",
    "    \"\"\"Calculate Volume Weighted Average Price (VWAP) for a DataFrame\"\"\"\n",
    "    try:\n",
    "        dollar_volume = (df['Price'] * df['Size']).sum()\n",
    "        total_volume = df['Size'].sum()\n",
    "        return dollar_volume / total_volume if total_volume != 0 else 0\n",
    "    except KeyError:\n",
    "        print(\"Missing required columns: 'Price' and/or 'Size'\")\n",
    "        return None\n",
    "\n",
    "def calculate_pair_year_vwap(pair_year_dfs):\n",
    "    \"\"\"Calculate VWAP for all pairs and years in nested dictionary\"\"\"\n",
    "    vwap_results = {}\n",
    "\n",
    "    for pair, years in pair_year_dfs.items():\n",
    "        vwap_results[pair] = {}\n",
    "        for year, df in years.items():\n",
    "            vwap_results[pair][year] = calculate_vwap(df)\n",
    "\n",
    "    return vwap_results"
   ]
  },
  {
   "cell_type": "code",
   "execution_count": 46,
   "id": "ff463fd3e5a14cdc",
   "metadata": {
    "ExecuteTime": {
     "end_time": "2025-02-09T00:02:11.341848Z",
     "start_time": "2025-02-09T00:02:11.277457Z"
    }
   },
   "outputs": [
    {
     "data": {
      "text/plain": [
       "{'BTC-USD': {2022: 38236.19891122872, 2023: 22833.04847884836},\n",
       " 'ETH-USD': {2022: 2717.0318965407732, 2023: 1583.8326817861039},\n",
       " 'ETH-BTC': {2022: 0.07107147751023117, 2023: 0.06971473762602727}}"
      ]
     },
     "execution_count": 46,
     "metadata": {},
     "output_type": "execute_result"
    }
   ],
   "source": [
    "vwap_results = calculate_pair_year_vwap(pair_year_dfs)\n",
    "vwap_results"
   ]
  },
  {
   "cell_type": "markdown",
   "id": "1f324cf8512f519a",
   "metadata": {},
   "source": [
    "# Accumulation"
   ]
  },
  {
   "cell_type": "markdown",
   "id": "60b9f5fbb308a4d7",
   "metadata": {},
   "source": [
    "## Helper functions"
   ]
  },
  {
   "cell_type": "code",
   "execution_count": 11,
   "id": "4238454db441e359",
   "metadata": {
    "ExecuteTime": {
     "end_time": "2025-02-08T23:21:14.711443Z",
     "start_time": "2025-02-08T23:21:14.705370Z"
    }
   },
   "outputs": [],
   "source": [
    "def calculate_Q_values(pair_year_dfs, quantiles=[65, 70], interval='5T', fraction=0.02):\n",
    "    Q_dict = {}\n",
    "    for pair, years in pair_year_dfs.items():\n",
    "        Q_dict[pair] = {}\n",
    "        for year, df in years.items():\n",
    "            resampled = df.set_index('timestamp_utc').resample(interval)['Size'].sum()\n",
    "            Q_vals = {f'{q}th': resampled.quantile(q/100) * fraction for q in quantiles}\n",
    "            Q_dict[pair][year] = Q_vals\n",
    "    return Q_dict"
   ]
  },
  {
   "cell_type": "code",
   "execution_count": 12,
   "id": "54e0b1623a2e7461",
   "metadata": {
    "ExecuteTime": {
     "end_time": "2025-02-08T23:22:19.594705Z",
     "start_time": "2025-02-08T23:22:19.574929Z"
    }
   },
   "outputs": [],
   "source": [
    "def generate_trade_df(df, Q, tau_s, Q_sign, g_quantile=0.05, k=0.05, P=0, fee_rate=0.005):\n",
    "    # Filter trades based on start time and opposite side\n",
    "    target_side = -Q_sign\n",
    "    mask = (df['timestamp_utc'] >= tau_s) & (df['Side'] == target_side)\n",
    "    filtered = df.loc[mask].copy()\n",
    "\n",
    "    if filtered.empty:\n",
    "        return None\n",
    "\n",
    "    # Calculate minimum size threshold g\n",
    "    g = filtered['Size'].abs().quantile(g_quantile)\n",
    "\n",
    "    # Group trades by timestamp and calculate total quantities at each timestamp\n",
    "    flurry_groups = filtered.groupby('timestamp_utc')\n",
    "    q_levels = flurry_groups['Size'].sum()\n",
    "\n",
    "    # Calculate size to accumulate at each timestamp\n",
    "    s_values = ((q_levels - g) * k).clip(lower=0)\n",
    "\n",
    "    # Identify sweeps (multiple price levels at the same timestamp)\n",
    "    sweep_flags = flurry_groups['Price'].nunique() > 1\n",
    "    sweep_timestamps = sweep_flags[sweep_flags].index\n",
    "\n",
    "    # Apply pause time after sweeps\n",
    "    pause_periods = pd.to_datetime(sweep_timestamps) + pd.to_timedelta(P, unit='s')\n",
    "    pause_mask = filtered['timestamp_utc'].isin(pause_periods)\n",
    "\n",
    "    # Filter valid trades after applying pause periods\n",
    "    valid_trades_mask = ~pause_mask & ~filtered['timestamp_utc'].isin(sweep_timestamps)\n",
    "    valid_trades = filtered.loc[valid_trades_mask]\n",
    "\n",
    "    if valid_trades.empty:\n",
    "        return None\n",
    "\n",
    "    # Calculate cumulative participation\n",
    "    valid_s_values = s_values.reindex(valid_trades['timestamp_utc']).fillna(0)\n",
    "    cum_s = valid_s_values.cumsum()\n",
    "\n",
    "    # Stop accumulating once we meet or exceed Q\n",
    "    try:\n",
    "        cutoff_idx = cum_s[cum_s >= abs(Q)].index.min()\n",
    "        final_valid_trades = valid_trades[valid_trades['timestamp_utc'] <= cutoff_idx]\n",
    "        total_size = cum_s.loc[cutoff_idx]\n",
    "    except IndexError:\n",
    "        final_valid_trades = valid_trades\n",
    "        total_size = cum_s.iloc[-1] if not cum_s.empty else 0\n",
    "\n",
    "    if final_valid_trades.empty or total_size == 0:\n",
    "        return None\n",
    "\n",
    "    # Assign participation sizes and calculate notional values\n",
    "    participation_sizes = final_valid_trades.groupby('timestamp_utc')['Size'].transform(\n",
    "        lambda x: (x.abs() / x.abs().sum()) * valid_s_values.get(x.name, 0)\n",
    "    )\n",
    "\n",
    "    trades_df = final_valid_trades.assign(\n",
    "        size=participation_sizes * Q_sign,\n",
    "        notional=lambda x: x['Price'] * x['size'].abs()\n",
    "    )[['timestamp_utc', 'Price', 'size', 'notional']]\n",
    "\n",
    "\n",
    "    arrival_price = df.loc[df['timestamp_utc'] >= tau_s].iloc[0]['Price']\n",
    "\n",
    "    # Compute metrics\n",
    "    fee_rate = fee_rate if 'usd' in df.index.name.lower() else 0.001\n",
    "    duration_seconds = (\n",
    "        trades_df['timestamp_utc'].max() - trades_df['timestamp_utc'].min()\n",
    "    ).total_seconds()\n",
    "\n",
    "    metrics = {\n",
    "        'arrival_price': arrival_price,\n",
    "        'vwap': trades_df['notional'].sum() / total_size,\n",
    "        'total_notional': trades_df['notional'].sum(),\n",
    "        'fees_paid': trades_df['notional'].sum() * fee_rate,\n",
    "        'participation_rate': total_size / df.loc[(df['timestamp_utc'] <= trades_df['timestamp_utc'].max()) & (df['timestamp_utc'] >= trades_df['timestamp_utc'].min())]['Size'].abs().sum(),\n",
    "        'duration_seconds': duration_seconds,\n",
    "        'num_flurries': len(trades_df['timestamp_utc'].unique()),\n",
    "        'filled_quantity': total_size * np.sign(Q),\n",
    "        'target_quantity': Q,\n",
    "        'remaining_quantity': Q - (total_size * np.sign(Q))\n",
    "    }\n",
    "\n",
    "    return trades_df, metrics"
   ]
  },
  {
   "cell_type": "code",
   "execution_count": 37,
   "id": "2de9adc49b6dd23b",
   "metadata": {
    "ExecuteTime": {
     "end_time": "2025-02-08T23:46:23.220635Z",
     "start_time": "2025-02-08T23:46:23.215499Z"
    }
   },
   "outputs": [],
   "source": [
    "def analyze_simulation(metrics):\n",
    "    analysis = {\n",
    "        'slippage_bps': (metrics['vwap'] - metrics['arrival_price']) / metrics['arrival_price'] * 10000,\n",
    "        'fee_bps': metrics['fees_paid'] / metrics['total_notional'] * 10000,\n",
    "        'notional_per_minute': metrics['total_notional'] / (metrics['duration_seconds'] / 60)\n",
    "    }\n",
    "    return analysis"
   ]
  },
  {
   "cell_type": "markdown",
   "id": "53a8912b824be729",
   "metadata": {},
   "source": [
    "## calculating Q"
   ]
  },
  {
   "cell_type": "code",
   "execution_count": 14,
   "id": "fcf746efd8b11e36",
   "metadata": {
    "ExecuteTime": {
     "end_time": "2025-02-08T23:22:30.980822Z",
     "start_time": "2025-02-08T23:22:30.588808Z"
    }
   },
   "outputs": [
    {
     "data": {
      "text/plain": [
       "{'BTC-USD': {2022: {'65th': 1.05538934106, '70th': 1.19748401262},\n",
       "  2023: {'65th': 1.81094512425, '70th': 2.0396249520399983}},\n",
       " 'ETH-USD': {2022: {'65th': 13.922947902010005, '70th': 15.38895058914},\n",
       "  2023: {'65th': 11.741779113510006, '70th': 13.691001553339989}},\n",
       " 'ETH-BTC': {2022: {'65th': 0.6335377463600002, '70th': 0.7201435850399999},\n",
       "  2023: {'65th': 0.0004878, '70th': 0.0022483476}}}"
      ]
     },
     "execution_count": 14,
     "metadata": {},
     "output_type": "execute_result"
    }
   ],
   "source": [
    "Q_dict = calculate_Q_values(pair_year_dfs)\n",
    "Q_dict"
   ]
  },
  {
   "cell_type": "markdown",
   "id": "942c8d4c98777121",
   "metadata": {},
   "source": [
    "I tried to compute Q values using rolling 5 min cumsum() but it resulted in null values for ETH-BTC in 2023, so I shifted to calculating via partitioning data into 5 minute intervals and then getting xth percentile and taking Q as a fraction of it. Calculating different percentile values for ETH-BTC resulted in '0' values as there are gaps and less trading activity in that dataset, so I will be looking at just 65th and 70th percentile for the analysis."
   ]
  },
  {
   "cell_type": "markdown",
   "id": "caa60b34bc40ec1",
   "metadata": {},
   "source": [
    "I am currently using a fixed value for tau_s (arrival time) as 1hr after trade data start. I will do simulations on arrival times later. For all analysis:\n",
    "- Q_sign = positive\n",
    "- g_quantile =  0.05\n",
    "- fee_rate = 0.005 for USD pair and 0.001 otherwise\n",
    "- P = 2 sec after flurry trades\n",
    "\n",
    "### k=0.03 and Q corresponding to 65th percentile"
   ]
  },
  {
   "cell_type": "code",
   "execution_count": 48,
   "id": "2d14ccd5cc8206e5",
   "metadata": {
    "ExecuteTime": {
     "end_time": "2025-02-09T00:03:16.102992Z",
     "start_time": "2025-02-09T00:03:13.981247Z"
    }
   },
   "outputs": [],
   "source": [
    "# Parameters for the function\n",
    "Q_sign = 1\n",
    "g_quantile = 0.05\n",
    "k = 0.03\n",
    "P = 2\n",
    "fee_rate = 0.005\n",
    "\n",
    "results = []\n",
    "analysis_results = []\n",
    "\n",
    "for pair, years in pair_year_dfs.items():\n",
    "    for year, df in years.items():\n",
    "        trades_df, metrics = generate_trade_df(df, Q=Q_dict[df.index.name][year]['65th'], tau_s=df['timestamp_utc'].iloc[0]+pd.Timedelta(hours=1), Q_sign=Q_sign, g_quantile=g_quantile, k=k, P=P, fee_rate=fee_rate)\n",
    "\n",
    "        if metrics:\n",
    "            metrics['pair'] = pair\n",
    "            metrics['year'] = year\n",
    "            metrics['vwap_trade_book'] = vwap_results[pair][year]\n",
    "            results.append(metrics)\n",
    "\n",
    "            analysis = analyze_simulation(metrics)\n",
    "            analysis['pair'] = pair\n",
    "            analysis['year'] = year\n",
    "            analysis_results.append(analysis)\n",
    "\n",
    "results_df = pd.DataFrame(results)\n",
    "analysis_df = pd.DataFrame(analysis_results)"
   ]
  },
  {
   "cell_type": "code",
   "execution_count": 49,
   "id": "71b1728355a85a98",
   "metadata": {
    "ExecuteTime": {
     "end_time": "2025-02-09T00:03:16.134374Z",
     "start_time": "2025-02-09T00:03:16.127404Z"
    }
   },
   "outputs": [
    {
     "data": {
      "text/html": [
       "<div>\n",
       "<style scoped>\n",
       "    .dataframe tbody tr th:only-of-type {\n",
       "        vertical-align: middle;\n",
       "    }\n",
       "\n",
       "    .dataframe tbody tr th {\n",
       "        vertical-align: top;\n",
       "    }\n",
       "\n",
       "    .dataframe thead th {\n",
       "        text-align: right;\n",
       "    }\n",
       "</style>\n",
       "<table border=\"1\" class=\"dataframe\">\n",
       "  <thead>\n",
       "    <tr style=\"text-align: right;\">\n",
       "      <th></th>\n",
       "      <th>arrival_price</th>\n",
       "      <th>vwap</th>\n",
       "      <th>total_notional</th>\n",
       "      <th>fees_paid</th>\n",
       "      <th>participation_rate</th>\n",
       "      <th>duration_seconds</th>\n",
       "      <th>num_flurries</th>\n",
       "      <th>filled_quantity</th>\n",
       "      <th>target_quantity</th>\n",
       "      <th>remaining_quantity</th>\n",
       "      <th>pair</th>\n",
       "      <th>year</th>\n",
       "      <th>vwap_trade_book</th>\n",
       "    </tr>\n",
       "  </thead>\n",
       "  <tbody>\n",
       "    <tr>\n",
       "      <th>0</th>\n",
       "      <td>38388.18000</td>\n",
       "      <td>38241.639237</td>\n",
       "      <td>40402.789340</td>\n",
       "      <td>202.013947</td>\n",
       "      <td>0.003798</td>\n",
       "      <td>1337.457568</td>\n",
       "      <td>1193</td>\n",
       "      <td>1.056513</td>\n",
       "      <td>1.055389</td>\n",
       "      <td>-0.001124</td>\n",
       "      <td>BTC-USD</td>\n",
       "      <td>2022</td>\n",
       "      <td>38236.198911</td>\n",
       "    </tr>\n",
       "    <tr>\n",
       "      <th>1</th>\n",
       "      <td>23012.03000</td>\n",
       "      <td>23063.662402</td>\n",
       "      <td>41771.398334</td>\n",
       "      <td>208.856992</td>\n",
       "      <td>0.004694</td>\n",
       "      <td>834.882014</td>\n",
       "      <td>1046</td>\n",
       "      <td>1.811135</td>\n",
       "      <td>1.810945</td>\n",
       "      <td>-0.000190</td>\n",
       "      <td>BTC-USD</td>\n",
       "      <td>2023</td>\n",
       "      <td>22833.048479</td>\n",
       "    </tr>\n",
       "    <tr>\n",
       "      <th>2</th>\n",
       "      <td>2612.21000</td>\n",
       "      <td>2603.950572</td>\n",
       "      <td>36559.083059</td>\n",
       "      <td>182.795415</td>\n",
       "      <td>0.003794</td>\n",
       "      <td>2779.922701</td>\n",
       "      <td>1492</td>\n",
       "      <td>14.039853</td>\n",
       "      <td>13.922948</td>\n",
       "      <td>-0.116905</td>\n",
       "      <td>ETH-USD</td>\n",
       "      <td>2022</td>\n",
       "      <td>2717.031897</td>\n",
       "    </tr>\n",
       "    <tr>\n",
       "      <th>3</th>\n",
       "      <td>1632.67000</td>\n",
       "      <td>1634.965551</td>\n",
       "      <td>19988.119929</td>\n",
       "      <td>99.940600</td>\n",
       "      <td>0.007281</td>\n",
       "      <td>351.577984</td>\n",
       "      <td>425</td>\n",
       "      <td>12.225407</td>\n",
       "      <td>11.741779</td>\n",
       "      <td>-0.483628</td>\n",
       "      <td>ETH-USD</td>\n",
       "      <td>2023</td>\n",
       "      <td>1583.832682</td>\n",
       "    </tr>\n",
       "    <tr>\n",
       "      <th>4</th>\n",
       "      <td>0.06804</td>\n",
       "      <td>0.068139</td>\n",
       "      <td>0.043610</td>\n",
       "      <td>0.000044</td>\n",
       "      <td>0.009635</td>\n",
       "      <td>605.215868</td>\n",
       "      <td>62</td>\n",
       "      <td>0.640014</td>\n",
       "      <td>0.633538</td>\n",
       "      <td>-0.006477</td>\n",
       "      <td>ETH-BTC</td>\n",
       "      <td>2022</td>\n",
       "      <td>0.071071</td>\n",
       "    </tr>\n",
       "    <tr>\n",
       "      <th>5</th>\n",
       "      <td>0.07098</td>\n",
       "      <td>0.070980</td>\n",
       "      <td>0.001403</td>\n",
       "      <td>0.000001</td>\n",
       "      <td>0.029993</td>\n",
       "      <td>0.000000</td>\n",
       "      <td>1</td>\n",
       "      <td>0.019761</td>\n",
       "      <td>0.000488</td>\n",
       "      <td>-0.019273</td>\n",
       "      <td>ETH-BTC</td>\n",
       "      <td>2023</td>\n",
       "      <td>0.069715</td>\n",
       "    </tr>\n",
       "  </tbody>\n",
       "</table>\n",
       "</div>"
      ],
      "text/plain": [
       "   arrival_price          vwap  total_notional   fees_paid  \\\n",
       "0    38388.18000  38241.639237    40402.789340  202.013947   \n",
       "1    23012.03000  23063.662402    41771.398334  208.856992   \n",
       "2     2612.21000   2603.950572    36559.083059  182.795415   \n",
       "3     1632.67000   1634.965551    19988.119929   99.940600   \n",
       "4        0.06804      0.068139        0.043610    0.000044   \n",
       "5        0.07098      0.070980        0.001403    0.000001   \n",
       "\n",
       "   participation_rate  duration_seconds  num_flurries  filled_quantity  \\\n",
       "0            0.003798       1337.457568          1193         1.056513   \n",
       "1            0.004694        834.882014          1046         1.811135   \n",
       "2            0.003794       2779.922701          1492        14.039853   \n",
       "3            0.007281        351.577984           425        12.225407   \n",
       "4            0.009635        605.215868            62         0.640014   \n",
       "5            0.029993          0.000000             1         0.019761   \n",
       "\n",
       "   target_quantity  remaining_quantity     pair  year  vwap_trade_book  \n",
       "0         1.055389           -0.001124  BTC-USD  2022     38236.198911  \n",
       "1         1.810945           -0.000190  BTC-USD  2023     22833.048479  \n",
       "2        13.922948           -0.116905  ETH-USD  2022      2717.031897  \n",
       "3        11.741779           -0.483628  ETH-USD  2023      1583.832682  \n",
       "4         0.633538           -0.006477  ETH-BTC  2022         0.071071  \n",
       "5         0.000488           -0.019273  ETH-BTC  2023         0.069715  "
      ]
     },
     "execution_count": 49,
     "metadata": {},
     "output_type": "execute_result"
    }
   ],
   "source": [
    "results_df"
   ]
  },
  {
   "cell_type": "code",
   "execution_count": 52,
   "id": "f53550b8ea38b6b0",
   "metadata": {
    "ExecuteTime": {
     "end_time": "2025-02-09T00:05:24.364481Z",
     "start_time": "2025-02-09T00:05:24.358659Z"
    }
   },
   "outputs": [
    {
     "data": {
      "text/plain": [
       "Index(['arrival_price', 'vwap', 'total_notional', 'fees_paid',\n",
       "       'participation_rate', 'duration_seconds', 'num_flurries',\n",
       "       'filled_quantity', 'target_quantity', 'remaining_quantity', 'pair',\n",
       "       'year', 'vwap_trade_book'],\n",
       "      dtype='object')"
      ]
     },
     "execution_count": 52,
     "metadata": {},
     "output_type": "execute_result"
    }
   ],
   "source": [
    "results_df.columns"
   ]
  },
  {
   "cell_type": "code",
   "execution_count": 50,
   "id": "94e1116a7bfa24b0",
   "metadata": {
    "ExecuteTime": {
     "end_time": "2025-02-09T00:03:32.685040Z",
     "start_time": "2025-02-09T00:03:32.677359Z"
    }
   },
   "outputs": [
    {
     "data": {
      "text/html": [
       "<div>\n",
       "<style scoped>\n",
       "    .dataframe tbody tr th:only-of-type {\n",
       "        vertical-align: middle;\n",
       "    }\n",
       "\n",
       "    .dataframe tbody tr th {\n",
       "        vertical-align: top;\n",
       "    }\n",
       "\n",
       "    .dataframe thead th {\n",
       "        text-align: right;\n",
       "    }\n",
       "</style>\n",
       "<table border=\"1\" class=\"dataframe\">\n",
       "  <thead>\n",
       "    <tr style=\"text-align: right;\">\n",
       "      <th></th>\n",
       "      <th>slippage_bps</th>\n",
       "      <th>fee_bps</th>\n",
       "      <th>notional_per_minute</th>\n",
       "      <th>pair</th>\n",
       "      <th>year</th>\n",
       "    </tr>\n",
       "  </thead>\n",
       "  <tbody>\n",
       "    <tr>\n",
       "      <th>0</th>\n",
       "      <td>-38.173407</td>\n",
       "      <td>50.0</td>\n",
       "      <td>1812.519080</td>\n",
       "      <td>BTC-USD</td>\n",
       "      <td>2022</td>\n",
       "    </tr>\n",
       "    <tr>\n",
       "      <th>1</th>\n",
       "      <td>22.437135</td>\n",
       "      <td>50.0</td>\n",
       "      <td>3001.961784</td>\n",
       "      <td>BTC-USD</td>\n",
       "      <td>2023</td>\n",
       "    </tr>\n",
       "    <tr>\n",
       "      <th>2</th>\n",
       "      <td>-31.618546</td>\n",
       "      <td>50.0</td>\n",
       "      <td>789.066898</td>\n",
       "      <td>ETH-USD</td>\n",
       "      <td>2022</td>\n",
       "    </tr>\n",
       "    <tr>\n",
       "      <th>3</th>\n",
       "      <td>14.060105</td>\n",
       "      <td>50.0</td>\n",
       "      <td>3411.155562</td>\n",
       "      <td>ETH-USD</td>\n",
       "      <td>2023</td>\n",
       "    </tr>\n",
       "    <tr>\n",
       "      <th>4</th>\n",
       "      <td>14.614643</td>\n",
       "      <td>10.0</td>\n",
       "      <td>0.004323</td>\n",
       "      <td>ETH-BTC</td>\n",
       "      <td>2022</td>\n",
       "    </tr>\n",
       "    <tr>\n",
       "      <th>5</th>\n",
       "      <td>0.000000</td>\n",
       "      <td>10.0</td>\n",
       "      <td>inf</td>\n",
       "      <td>ETH-BTC</td>\n",
       "      <td>2023</td>\n",
       "    </tr>\n",
       "  </tbody>\n",
       "</table>\n",
       "</div>"
      ],
      "text/plain": [
       "   slippage_bps  fee_bps  notional_per_minute     pair  year\n",
       "0    -38.173407     50.0          1812.519080  BTC-USD  2022\n",
       "1     22.437135     50.0          3001.961784  BTC-USD  2023\n",
       "2    -31.618546     50.0           789.066898  ETH-USD  2022\n",
       "3     14.060105     50.0          3411.155562  ETH-USD  2023\n",
       "4     14.614643     10.0             0.004323  ETH-BTC  2022\n",
       "5      0.000000     10.0                  inf  ETH-BTC  2023"
      ]
     },
     "execution_count": 50,
     "metadata": {},
     "output_type": "execute_result"
    }
   ],
   "source": [
    "analysis_df"
   ]
  },
  {
   "cell_type": "markdown",
   "id": "a79006065f3571e9",
   "metadata": {},
   "source": [
    "fee is proportional to notional as expected.\n",
    "ETH-BTC for 2023 is not clean and hence we rely on its analysis/metrics values.\n",
    "\n",
    "Liquidity: Notional trading volume per minute differs significantly by pair, indicating varying liquidity levels. Highest for BTC-USD in 2022 and for ETH-USD in 2023 (this is in line with what we saw volume charts)\n",
    "\n",
    "Algorithm Performance :\n",
    "   - VWAP Efficiency: The VWAP algorithm generally achieves prices close to or better than the arrival price, reflecting efficient execution.\n",
    "   - Participation Rate: Higher participation rates lead to faster accumulation but may increase market impact.\n",
    "   - Cost Breakdown: Fees and slippage are key contributors to total trading costs, with fees being more predictable.\n",
    "\n",
    "Yearly and Pair-Specific Trends:\n",
    "   - Performance metrics such as filled quantity, remaining quantity, and execution costs vary across trading pairs and between 2022 and 2023, influenced by market conditions like liquidity and volatility.\n"
   ]
  },
  {
   "cell_type": "markdown",
   "id": "3d4212aed4861f45",
   "metadata": {},
   "source": [
    "### k=0.03 and Q corresponding to 70th percentile"
   ]
  },
  {
   "cell_type": "code",
   "execution_count": 53,
   "id": "8d52023a6e002795",
   "metadata": {
    "ExecuteTime": {
     "end_time": "2025-02-09T00:06:37.205284Z",
     "start_time": "2025-02-09T00:06:33.336768Z"
    }
   },
   "outputs": [],
   "source": [
    "# Parameters for the function\n",
    "Q_sign = 1\n",
    "g_quantile = 0.05\n",
    "k = 0.03\n",
    "P = 2\n",
    "fee_rate = 0.005\n",
    "\n",
    "results = []\n",
    "analysis_results = []\n",
    "\n",
    "for pair, years in pair_year_dfs.items():\n",
    "    for year, df in years.items():\n",
    "        trades_df, metrics = generate_trade_df(df, Q=Q_dict[df.index.name][year]['70th'], tau_s=df['timestamp_utc'].iloc[0]+pd.Timedelta(hours=1), Q_sign=Q_sign, g_quantile=g_quantile, k=k, P=P, fee_rate=fee_rate)\n",
    "\n",
    "        if metrics:\n",
    "            metrics['pair'] = pair\n",
    "            metrics['year'] = year\n",
    "            metrics['vwap_trade_book'] = vwap_results[pair][year]\n",
    "            results.append(metrics)\n",
    "\n",
    "            analysis = analyze_simulation(metrics)\n",
    "            analysis['pair'] = pair\n",
    "            analysis['year'] = year\n",
    "            analysis_results.append(analysis)\n",
    "\n",
    "results_df = pd.DataFrame(results)\n",
    "analysis_df = pd.DataFrame(analysis_results)"
   ]
  },
  {
   "cell_type": "code",
   "execution_count": 54,
   "id": "cffd777df10561ca",
   "metadata": {
    "ExecuteTime": {
     "end_time": "2025-02-09T00:06:38.548216Z",
     "start_time": "2025-02-09T00:06:38.533922Z"
    }
   },
   "outputs": [
    {
     "data": {
      "text/html": [
       "<div>\n",
       "<style scoped>\n",
       "    .dataframe tbody tr th:only-of-type {\n",
       "        vertical-align: middle;\n",
       "    }\n",
       "\n",
       "    .dataframe tbody tr th {\n",
       "        vertical-align: top;\n",
       "    }\n",
       "\n",
       "    .dataframe thead th {\n",
       "        text-align: right;\n",
       "    }\n",
       "</style>\n",
       "<table border=\"1\" class=\"dataframe\">\n",
       "  <thead>\n",
       "    <tr style=\"text-align: right;\">\n",
       "      <th></th>\n",
       "      <th>arrival_price</th>\n",
       "      <th>vwap</th>\n",
       "      <th>total_notional</th>\n",
       "      <th>fees_paid</th>\n",
       "      <th>participation_rate</th>\n",
       "      <th>duration_seconds</th>\n",
       "      <th>num_flurries</th>\n",
       "      <th>filled_quantity</th>\n",
       "      <th>target_quantity</th>\n",
       "      <th>remaining_quantity</th>\n",
       "      <th>pair</th>\n",
       "      <th>year</th>\n",
       "      <th>vwap_trade_book</th>\n",
       "    </tr>\n",
       "  </thead>\n",
       "  <tbody>\n",
       "    <tr>\n",
       "      <th>0</th>\n",
       "      <td>38388.18000</td>\n",
       "      <td>38227.048351</td>\n",
       "      <td>46082.036472</td>\n",
       "      <td>230.410182</td>\n",
       "      <td>0.001772</td>\n",
       "      <td>1787.950565</td>\n",
       "      <td>1447</td>\n",
       "      <td>1.205482</td>\n",
       "      <td>1.197484</td>\n",
       "      <td>-0.007998</td>\n",
       "      <td>BTC-USD</td>\n",
       "      <td>2022</td>\n",
       "      <td>38236.198911</td>\n",
       "    </tr>\n",
       "    <tr>\n",
       "      <th>1</th>\n",
       "      <td>23012.03000</td>\n",
       "      <td>23067.703205</td>\n",
       "      <td>47050.226878</td>\n",
       "      <td>235.251134</td>\n",
       "      <td>0.004715</td>\n",
       "      <td>972.605569</td>\n",
       "      <td>1194</td>\n",
       "      <td>2.039658</td>\n",
       "      <td>2.039625</td>\n",
       "      <td>-0.000033</td>\n",
       "      <td>BTC-USD</td>\n",
       "      <td>2023</td>\n",
       "      <td>22833.048479</td>\n",
       "    </tr>\n",
       "    <tr>\n",
       "      <th>2</th>\n",
       "      <td>2612.21000</td>\n",
       "      <td>2603.625547</td>\n",
       "      <td>40885.914832</td>\n",
       "      <td>204.429574</td>\n",
       "      <td>0.003741</td>\n",
       "      <td>3445.214962</td>\n",
       "      <td>1823</td>\n",
       "      <td>15.703454</td>\n",
       "      <td>15.388951</td>\n",
       "      <td>-0.314504</td>\n",
       "      <td>ETH-USD</td>\n",
       "      <td>2022</td>\n",
       "      <td>2717.031897</td>\n",
       "    </tr>\n",
       "    <tr>\n",
       "      <th>3</th>\n",
       "      <td>1632.67000</td>\n",
       "      <td>1635.284927</td>\n",
       "      <td>22792.329440</td>\n",
       "      <td>113.961647</td>\n",
       "      <td>0.007636</td>\n",
       "      <td>360.836697</td>\n",
       "      <td>469</td>\n",
       "      <td>13.937834</td>\n",
       "      <td>13.691002</td>\n",
       "      <td>-0.246832</td>\n",
       "      <td>ETH-USD</td>\n",
       "      <td>2023</td>\n",
       "      <td>1583.832682</td>\n",
       "    </tr>\n",
       "    <tr>\n",
       "      <th>4</th>\n",
       "      <td>0.06804</td>\n",
       "      <td>0.068136</td>\n",
       "      <td>0.049112</td>\n",
       "      <td>0.000049</td>\n",
       "      <td>0.009916</td>\n",
       "      <td>765.453638</td>\n",
       "      <td>77</td>\n",
       "      <td>0.720802</td>\n",
       "      <td>0.720144</td>\n",
       "      <td>-0.000659</td>\n",
       "      <td>ETH-BTC</td>\n",
       "      <td>2022</td>\n",
       "      <td>0.071071</td>\n",
       "    </tr>\n",
       "    <tr>\n",
       "      <th>5</th>\n",
       "      <td>0.07098</td>\n",
       "      <td>0.070980</td>\n",
       "      <td>0.001403</td>\n",
       "      <td>0.000001</td>\n",
       "      <td>0.029993</td>\n",
       "      <td>0.000000</td>\n",
       "      <td>1</td>\n",
       "      <td>0.019761</td>\n",
       "      <td>0.002248</td>\n",
       "      <td>-0.017512</td>\n",
       "      <td>ETH-BTC</td>\n",
       "      <td>2023</td>\n",
       "      <td>0.069715</td>\n",
       "    </tr>\n",
       "  </tbody>\n",
       "</table>\n",
       "</div>"
      ],
      "text/plain": [
       "   arrival_price          vwap  total_notional   fees_paid  \\\n",
       "0    38388.18000  38227.048351    46082.036472  230.410182   \n",
       "1    23012.03000  23067.703205    47050.226878  235.251134   \n",
       "2     2612.21000   2603.625547    40885.914832  204.429574   \n",
       "3     1632.67000   1635.284927    22792.329440  113.961647   \n",
       "4        0.06804      0.068136        0.049112    0.000049   \n",
       "5        0.07098      0.070980        0.001403    0.000001   \n",
       "\n",
       "   participation_rate  duration_seconds  num_flurries  filled_quantity  \\\n",
       "0            0.001772       1787.950565          1447         1.205482   \n",
       "1            0.004715        972.605569          1194         2.039658   \n",
       "2            0.003741       3445.214962          1823        15.703454   \n",
       "3            0.007636        360.836697           469        13.937834   \n",
       "4            0.009916        765.453638            77         0.720802   \n",
       "5            0.029993          0.000000             1         0.019761   \n",
       "\n",
       "   target_quantity  remaining_quantity     pair  year  vwap_trade_book  \n",
       "0         1.197484           -0.007998  BTC-USD  2022     38236.198911  \n",
       "1         2.039625           -0.000033  BTC-USD  2023     22833.048479  \n",
       "2        15.388951           -0.314504  ETH-USD  2022      2717.031897  \n",
       "3        13.691002           -0.246832  ETH-USD  2023      1583.832682  \n",
       "4         0.720144           -0.000659  ETH-BTC  2022         0.071071  \n",
       "5         0.002248           -0.017512  ETH-BTC  2023         0.069715  "
      ]
     },
     "execution_count": 54,
     "metadata": {},
     "output_type": "execute_result"
    }
   ],
   "source": [
    "results_df"
   ]
  },
  {
   "cell_type": "code",
   "execution_count": 55,
   "id": "da94c0dff271d60e",
   "metadata": {
    "ExecuteTime": {
     "end_time": "2025-02-09T00:06:48.340648Z",
     "start_time": "2025-02-09T00:06:48.309220Z"
    }
   },
   "outputs": [
    {
     "data": {
      "text/html": [
       "<div>\n",
       "<style scoped>\n",
       "    .dataframe tbody tr th:only-of-type {\n",
       "        vertical-align: middle;\n",
       "    }\n",
       "\n",
       "    .dataframe tbody tr th {\n",
       "        vertical-align: top;\n",
       "    }\n",
       "\n",
       "    .dataframe thead th {\n",
       "        text-align: right;\n",
       "    }\n",
       "</style>\n",
       "<table border=\"1\" class=\"dataframe\">\n",
       "  <thead>\n",
       "    <tr style=\"text-align: right;\">\n",
       "      <th></th>\n",
       "      <th>slippage_bps</th>\n",
       "      <th>fee_bps</th>\n",
       "      <th>notional_per_minute</th>\n",
       "      <th>pair</th>\n",
       "      <th>year</th>\n",
       "    </tr>\n",
       "  </thead>\n",
       "  <tbody>\n",
       "    <tr>\n",
       "      <th>0</th>\n",
       "      <td>-41.974287</td>\n",
       "      <td>50.0</td>\n",
       "      <td>1546.419819</td>\n",
       "      <td>BTC-USD</td>\n",
       "      <td>2022</td>\n",
       "    </tr>\n",
       "    <tr>\n",
       "      <th>1</th>\n",
       "      <td>24.193087</td>\n",
       "      <td>50.0</td>\n",
       "      <td>2902.526680</td>\n",
       "      <td>BTC-USD</td>\n",
       "      <td>2023</td>\n",
       "    </tr>\n",
       "    <tr>\n",
       "      <th>2</th>\n",
       "      <td>-32.862798</td>\n",
       "      <td>50.0</td>\n",
       "      <td>712.046974</td>\n",
       "      <td>ETH-USD</td>\n",
       "      <td>2022</td>\n",
       "    </tr>\n",
       "    <tr>\n",
       "      <th>3</th>\n",
       "      <td>16.016263</td>\n",
       "      <td>50.0</td>\n",
       "      <td>3789.913215</td>\n",
       "      <td>ETH-USD</td>\n",
       "      <td>2023</td>\n",
       "    </tr>\n",
       "    <tr>\n",
       "      <th>4</th>\n",
       "      <td>14.091406</td>\n",
       "      <td>10.0</td>\n",
       "      <td>0.003850</td>\n",
       "      <td>ETH-BTC</td>\n",
       "      <td>2022</td>\n",
       "    </tr>\n",
       "    <tr>\n",
       "      <th>5</th>\n",
       "      <td>0.000000</td>\n",
       "      <td>10.0</td>\n",
       "      <td>inf</td>\n",
       "      <td>ETH-BTC</td>\n",
       "      <td>2023</td>\n",
       "    </tr>\n",
       "  </tbody>\n",
       "</table>\n",
       "</div>"
      ],
      "text/plain": [
       "   slippage_bps  fee_bps  notional_per_minute     pair  year\n",
       "0    -41.974287     50.0          1546.419819  BTC-USD  2022\n",
       "1     24.193087     50.0          2902.526680  BTC-USD  2023\n",
       "2    -32.862798     50.0           712.046974  ETH-USD  2022\n",
       "3     16.016263     50.0          3789.913215  ETH-USD  2023\n",
       "4     14.091406     10.0             0.003850  ETH-BTC  2022\n",
       "5      0.000000     10.0                  inf  ETH-BTC  2023"
      ]
     },
     "execution_count": 55,
     "metadata": {},
     "output_type": "execute_result"
    }
   ],
   "source": [
    "analysis_df"
   ]
  },
  {
   "cell_type": "markdown",
   "id": "71c5f2c8aa8e9f54",
   "metadata": {},
   "source": [
    "similar performance as previous case. changing Q doesn't impact our results much. Higher duration because Q(70th) > Q(65th). Apart from BTC-USD in 2022, participation_rate has increased when using Q(70th). notional_per_minute is higher for Q(65th) in 2022 and Q(70th) in 2023, since 2023 has fewer days and gaps, we need to take caution in making conclusions."
   ]
  },
  {
   "cell_type": "code",
   "execution_count": null,
   "id": "eadde97762a7372a",
   "metadata": {
    "jupyter": {
     "is_executing": true
    }
   },
   "outputs": [],
   "source": [
    "results_df['price_deviation_vwap'] = (results_df['vwap'] - results_df['arrival_price']) / results_df['arrival_price']\n",
    "results_df['price_deviation_book'] = (results_df['vwap_trade_book'] - results_df['arrival_price']) / results_df['arrival_price']\n",
    "results_df['cost_proportion'] = results_df['fees_paid'] / results_df['total_notional']\n",
    "results_df['efficiency'] = results_df['total_notional'] / results_df['duration_seconds']\n",
    "\n",
    "summary_stats = results_df.groupby(['pair', 'year']).agg({\n",
    "    'arrival_price': 'mean',\n",
    "    'vwap': 'mean',\n",
    "    'vwap_trade_book': 'mean',\n",
    "    'price_deviation_vwap': ['mean', 'std'],\n",
    "    'price_deviation_book': ['mean', 'std'],\n",
    "    'participation_rate': ['mean', 'std'],\n",
    "    'cost_proportion': 'mean',\n",
    "    'efficiency': 'mean'\n",
    "}).reset_index()\n",
    "\n",
    "plt.figure(figsize=(16, 12))\n",
    "\n",
    "# Price comparison\n",
    "plt.subplot(2, 2, 1)\n",
    "sns.boxplot(x='pair', y='price_deviation_vwap', hue='year', data=results_df)\n",
    "plt.title('Price Deviation from Arrival (VWAP)')\n",
    "plt.ylabel('Relative Deviation')\n",
    "\n",
    "plt.subplot(2, 2, 2)\n",
    "sns.boxplot(x='pair', y='price_deviation_book', hue='year', data=results_df)\n",
    "plt.title('Price Deviation from Arrival (Trade Book VWAP)')\n",
    "plt.ylabel('Relative Deviation')\n",
    "\n",
    "# Participation vs Deviation\n",
    "plt.subplot(2, 2, 3)\n",
    "sns.scatterplot(x='participation_rate', y='price_deviation_vwap',\n",
    "                hue='pair', style='year', data=results_df)\n",
    "plt.title('Participation Rate vs Price Deviation')\n",
    "plt.xlabel('Achieved Participation Rate')\n",
    "plt.ylabel('VWAP Deviation')\n",
    "\n",
    "# Efficiency comparison\n",
    "plt.subplot(2, 2, 4)\n",
    "sns.barplot(x='pair', y='efficiency', hue='year', data=results_df)\n",
    "plt.title('Trading Efficiency (Notional/Second)')\n",
    "plt.ylabel('Efficiency')\n",
    "\n",
    "plt.tight_layout()\n",
    "plt.show()\n"
   ]
  },
  {
   "cell_type": "code",
   "execution_count": 63,
   "id": "6c3ceec6bfda13ce",
   "metadata": {
    "ExecuteTime": {
     "end_time": "2025-02-09T00:21:01.029433Z",
     "start_time": "2025-02-09T00:21:01.018081Z"
    }
   },
   "outputs": [],
   "source": [
    "comparison_results = []\n",
    "for pair in PAIRS:\n",
    "    for year in YEARS:\n",
    "        subset = results_df[(results_df['pair'] == pair) & (results_df['year'] == year)]\n",
    "\n",
    "        comparison_results.append({\n",
    "            'pair': pair,\n",
    "            'year': year,\n",
    "            'mean_vwap_diff': (subset['vwap'] - subset['vwap_trade_book']).mean(),\n",
    "            'cost_ratio': subset['cost_proportion'].mean(),\n",
    "            'completion_rate': subset['filled_quantity'].mean() / subset['target_quantity'].mean()\n",
    "        })\n",
    "\n",
    "comparison_df = pd.DataFrame(comparison_results)"
   ]
  },
  {
   "cell_type": "code",
   "execution_count": 64,
   "id": "7117e09613bdf000",
   "metadata": {
    "ExecuteTime": {
     "end_time": "2025-02-09T00:21:01.398435Z",
     "start_time": "2025-02-09T00:21:01.390558Z"
    }
   },
   "outputs": [
    {
     "name": "stdout",
     "output_type": "stream",
     "text": [
      "\n",
      "=== Key Performance Metrics ===\n"
     ]
    },
    {
     "data": {
      "text/html": [
       "<div>\n",
       "<style scoped>\n",
       "    .dataframe tbody tr th:only-of-type {\n",
       "        vertical-align: middle;\n",
       "    }\n",
       "\n",
       "    .dataframe tbody tr th {\n",
       "        vertical-align: top;\n",
       "    }\n",
       "\n",
       "    .dataframe thead th {\n",
       "        text-align: right;\n",
       "    }\n",
       "</style>\n",
       "<table border=\"1\" class=\"dataframe\">\n",
       "  <thead>\n",
       "    <tr style=\"text-align: right;\">\n",
       "      <th></th>\n",
       "      <th>pair</th>\n",
       "      <th>year</th>\n",
       "      <th>mean_vwap_diff</th>\n",
       "      <th>cost_ratio</th>\n",
       "      <th>completion_rate</th>\n",
       "    </tr>\n",
       "  </thead>\n",
       "  <tbody>\n",
       "    <tr>\n",
       "      <th>0</th>\n",
       "      <td>BTC-USD</td>\n",
       "      <td>2022</td>\n",
       "      <td>-9.150560</td>\n",
       "      <td>0.005</td>\n",
       "      <td>1.006679</td>\n",
       "    </tr>\n",
       "    <tr>\n",
       "      <th>1</th>\n",
       "      <td>BTC-USD</td>\n",
       "      <td>2023</td>\n",
       "      <td>234.654726</td>\n",
       "      <td>0.005</td>\n",
       "      <td>1.000016</td>\n",
       "    </tr>\n",
       "    <tr>\n",
       "      <th>2</th>\n",
       "      <td>ETH-USD</td>\n",
       "      <td>2022</td>\n",
       "      <td>-113.406350</td>\n",
       "      <td>0.005</td>\n",
       "      <td>1.020437</td>\n",
       "    </tr>\n",
       "    <tr>\n",
       "      <th>3</th>\n",
       "      <td>ETH-USD</td>\n",
       "      <td>2023</td>\n",
       "      <td>51.452246</td>\n",
       "      <td>0.005</td>\n",
       "      <td>1.018029</td>\n",
       "    </tr>\n",
       "    <tr>\n",
       "      <th>4</th>\n",
       "      <td>ETH-BTC</td>\n",
       "      <td>2022</td>\n",
       "      <td>-0.002936</td>\n",
       "      <td>0.001</td>\n",
       "      <td>1.000915</td>\n",
       "    </tr>\n",
       "    <tr>\n",
       "      <th>5</th>\n",
       "      <td>ETH-BTC</td>\n",
       "      <td>2023</td>\n",
       "      <td>0.001265</td>\n",
       "      <td>0.001</td>\n",
       "      <td>8.788943</td>\n",
       "    </tr>\n",
       "  </tbody>\n",
       "</table>\n",
       "</div>"
      ],
      "text/plain": [
       "      pair  year  mean_vwap_diff  cost_ratio  completion_rate\n",
       "0  BTC-USD  2022       -9.150560       0.005         1.006679\n",
       "1  BTC-USD  2023      234.654726       0.005         1.000016\n",
       "2  ETH-USD  2022     -113.406350       0.005         1.020437\n",
       "3  ETH-USD  2023       51.452246       0.005         1.018029\n",
       "4  ETH-BTC  2022       -0.002936       0.001         1.000915\n",
       "5  ETH-BTC  2023        0.001265       0.001         8.788943"
      ]
     },
     "execution_count": 64,
     "metadata": {},
     "output_type": "execute_result"
    }
   ],
   "source": [
    "print(\"\\n=== Key Performance Metrics ===\")\n",
    "(comparison_df[['pair', 'year', 'mean_vwap_diff', 'cost_ratio', 'completion_rate']])"
   ]
  },
  {
   "cell_type": "code",
   "execution_count": null,
   "id": "3cbcd6b909379177",
   "metadata": {},
   "outputs": [],
   "source": []
  },
  {
   "cell_type": "markdown",
   "id": "e9e09d8c1730af62",
   "metadata": {},
   "source": [
    "# Next Steps:\n",
    "- I wanted to calculate participation rates for different random values of arrival time and look at it distribution and understand how much k led to that participation rate, to understand the relationship between k and final participation rates.\n",
    "- Influence of Q"
   ]
  },
  {
   "cell_type": "code",
   "execution_count": null,
   "id": "afbfe144ba4098d2",
   "metadata": {},
   "outputs": [],
   "source": []
  },
  {
   "cell_type": "code",
   "execution_count": null,
   "id": "1ea7214551813669",
   "metadata": {},
   "outputs": [],
   "source": []
  }
 ],
 "metadata": {
  "kernelspec": {
   "display_name": "Python (quandl)",
   "language": "python",
   "name": "quandl"
  },
  "language_info": {
   "codemirror_mode": {
    "name": "ipython",
    "version": 2
   },
   "file_extension": ".py",
   "mimetype": "text/x-python",
   "name": "python",
   "nbconvert_exporter": "python",
   "pygments_lexer": "ipython2",
   "version": "2.7.6"
  }
 },
 "nbformat": 4,
 "nbformat_minor": 5
}
